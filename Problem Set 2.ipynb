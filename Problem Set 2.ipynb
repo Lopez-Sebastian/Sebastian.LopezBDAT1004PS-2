{
 "cells": [
  {
   "cell_type": "markdown",
   "id": "005e84ca",
   "metadata": {},
   "source": [
    "# Problem Set 2\n",
    "### Made by: Juan Sebatian Lopez\n",
    "### Class: Data Programming\n",
    "### Georgian College"
   ]
  },
  {
   "cell_type": "markdown",
   "id": "03ed0a9f",
   "metadata": {},
   "source": [
    "# Question 1\n",
    "\n",
    "Python module"
   ]
  },
  {
   "cell_type": "code",
   "execution_count": 2,
   "id": "92b463bf",
   "metadata": {},
   "outputs": [],
   "source": [
    "a = 0\n",
    "\n",
    "def b():\n",
    "    global a #hello\n",
    "    a = c(a)\n",
    "\n",
    "def c(a):\n",
    "    return a + 2"
   ]
  },
  {
   "cell_type": "code",
   "execution_count": 3,
   "id": "268ec0cf",
   "metadata": {},
   "outputs": [
    {
     "data": {
      "text/plain": [
       "6"
      ]
     },
     "execution_count": 3,
     "metadata": {},
     "output_type": "execute_result"
    }
   ],
   "source": [
    "b()\n",
    "b()\n",
    "b()\n",
    "a"
   ]
  },
  {
   "cell_type": "markdown",
   "id": "770fc2cf",
   "metadata": {},
   "source": [
    "## Explanation question 1\n",
    "\n",
    "The structure of this exercise contains two different functions, the first one (function b()) is a function where variable \"a\" which has been declared before, becomes \"global\" allowing the program to use it generally. Additionally, the second function (function c(a)) is called and the result of this function will be assigned to variable a. Then, the second function (function c(a)) which gets as a parameter the variable \"a\", makes an operation adding 2 to the current value of variable \"a\" and returns this value to function \"b()\".\n",
    "\n",
    "Each execution made to function \"b()\" will execute function \"c(a)\" adding 2 to the current value of the variable \"a\". Subsequently, the last line of execution makes a call on the variable \"a\", showing the current value of the variable. In this case, the function b() has been executed three times in a row, adding 6 to the original value of the variable which was 0 at the beginning. \n",
    "\n",
    "Therefore the result of the last line in execution is a 6 as output."
   ]
  },
  {
   "cell_type": "markdown",
   "id": "3627f828",
   "metadata": {},
   "source": [
    "# Question 2\n",
    "\n",
    "Function FileLength()"
   ]
  },
  {
   "cell_type": "code",
   "execution_count": 5,
   "id": "c995fc33",
   "metadata": {},
   "outputs": [],
   "source": [
    "def file_length(file_name):\n",
    "    try:\n",
    "        file = open(file_name)\n",
    "        contents = file.read()\n",
    "        file.close()\n",
    "        print(len(contents))\n",
    "    except:\n",
    "        print(f'File {file_name} not found.')"
   ]
  },
  {
   "cell_type": "code",
   "execution_count": 6,
   "id": "7467c474",
   "metadata": {},
   "outputs": [
    {
     "name": "stdout",
     "output_type": "stream",
     "text": [
      "118\n"
     ]
    }
   ],
   "source": [
    "file_length('Filelengthtest.txt')"
   ]
  },
  {
   "cell_type": "markdown",
   "id": "c4f41206",
   "metadata": {},
   "source": [
    "## Explanation Question 2\n",
    "\n",
    "The better way to transform this code into a general code that might evaluate the input file no matter the type or location and return an appropriate output for each case is using a try block. This syntaxis will evaluate the code even if it is wrong and the user can assign a custom message to show in cases where the output is an error or the code returns a wrong answer.\n",
    "\n",
    "The first part of the try block will contain the code and instructions to execute when the program has been run. Further, the second part is the except where the custom message will be located to be shown when something inside the main code went wrong."
   ]
  },
  {
   "cell_type": "markdown",
   "id": "fec30978",
   "metadata": {},
   "source": [
    "# Question 3\n",
    "\n",
    "Classes and inheritance"
   ]
  },
  {
   "cell_type": "code",
   "execution_count": 1,
   "id": "4d1e3892",
   "metadata": {},
   "outputs": [],
   "source": [
    "contents = []\n",
    "\n",
    "# Class Marsupial will contain two different functions\n",
    "class Marsupial():\n",
    "    #This function will aggregate the input text to the array\n",
    "    def put_in_touch(self, input_val):\n",
    "        contents.append(input_val)\n",
    "    #This function will print the values from the array\n",
    "    def pouch_contents(self):\n",
    "        print(contents)\n",
    "        \n",
    "#Class kangaroo creates and modificates the coordinates for the object\n",
    "class Kangaroo(Marsupial):\n",
    "    #Declaration for class attributes\n",
    "    def __init__(self, coordinate_x, coordinate_y):\n",
    "        self.coordinate_x = coordinate_x\n",
    "        self.coordinate_y = coordinate_y\n",
    "    #This function modify the previous values\n",
    "    def jump(self, dx, dy):\n",
    "        self.coordinate_x += dx\n",
    "        self.coordinate_y += dy\n",
    "    #This function allow the program to print a message when class is executed \n",
    "    def __str__(self):\n",
    "        return f'I am a Kangaroo located at coordinates {self.coordinate_x,self.coordinate_y}'\n",
    "        "
   ]
  },
  {
   "cell_type": "code",
   "execution_count": 2,
   "id": "23725c53",
   "metadata": {},
   "outputs": [
    {
     "name": "stdout",
     "output_type": "stream",
     "text": [
      "I am a Kangaroo located at coordinates (0, 0)\n",
      "['Doll', 'Firetruck', 'Kitten']\n",
      "I am a Kangaroo located at coordinates (3, 0)\n"
     ]
    }
   ],
   "source": [
    "k = Kangaroo(0, 0)\n",
    "print(k)\n",
    "m = Marsupial()\n",
    "m.put_in_touch('Doll')\n",
    "m.put_in_touch('Firetruck')\n",
    "m.put_in_touch('Kitten')\n",
    "m.pouch_contents()\n",
    "k.jump(1, 0)\n",
    "k.jump(1, 0)\n",
    "k.jump(1, 0)\n",
    "print(k)"
   ]
  },
  {
   "cell_type": "markdown",
   "id": "3832ac74",
   "metadata": {},
   "source": [
    "# Question 4\n",
    "\n",
    "Function collatz where a function to classify even and odd numbers are created. Additionally, this function makes a different mathematical process to the number in each case when is odd or even. This function is a recursive function that makes the process the necessary number of times to reach the value of 1."
   ]
  },
  {
   "cell_type": "code",
   "execution_count": 3,
   "id": "54221147",
   "metadata": {},
   "outputs": [],
   "source": [
    "def collatz(i):\n",
    "    #Case when value is equals to 1 and the function should stop\n",
    "    if (i == 1):\n",
    "        print(int(i))\n",
    "        return i\n",
    "    #Case when the value is a even number\n",
    "    elif(i % 2 == 0):\n",
    "        print(int(i))\n",
    "        i = i / 2           #Mathematical Process\n",
    "        return collatz(i)          #Use of recursivity\n",
    "    #Case when the value is a odd number\n",
    "    else:\n",
    "        print(int(i))\n",
    "        i = 3*(i) + 1             #Mathematical Process\n",
    "        return collatz(i)      #Use of recursivity"
   ]
  },
  {
   "cell_type": "code",
   "execution_count": 4,
   "id": "a107739f",
   "metadata": {},
   "outputs": [
    {
     "name": "stdout",
     "output_type": "stream",
     "text": [
      "Input a number: 5\n",
      "5\n",
      "16\n",
      "8\n",
      "4\n",
      "2\n",
      "1\n"
     ]
    },
    {
     "data": {
      "text/plain": [
       "1.0"
      ]
     },
     "execution_count": 4,
     "metadata": {},
     "output_type": "execute_result"
    }
   ],
   "source": [
    "#The program asks to the user for a number to execute the function and make the evaluations\n",
    "num = int(input(\"Input a number: \"))\n",
    "#Execution of the function\n",
    "collatz(num)"
   ]
  },
  {
   "cell_type": "markdown",
   "id": "75b9d264",
   "metadata": {},
   "source": [
    "# Question 5\n",
    "\n",
    "Writing a recursive function that converts an integer number into a binary value and prints the result. This has been made by a recursive function that makes serial divisions by 2 and prints the module of each operation, giving as result values of 1 and 0 that are equal to binary data."
   ]
  },
  {
   "cell_type": "code",
   "execution_count": 7,
   "id": "f6c3bbc6",
   "metadata": {},
   "outputs": [],
   "source": [
    "def binary(i):\n",
    "    num = \"\"        #Empty variable that will stores the binary value\n",
    "    if(i >= 0):     #Evaluate if the input number is positive\n",
    "        if(i == 0):      #If the initial value is 0 the function returns a 0\n",
    "            print(0)\n",
    "        elif(i >= 1):    #as long as the number remains greater than 1 the function makes recursivity\n",
    "            num += str(int(i % 2))    #This value will be taken as the binary (0 or 1)\n",
    "            i = i / 2\n",
    "            binary(i)\n",
    "    print(num, end='')     #Prints the result in the same line to get a complete binary value"
   ]
  },
  {
   "cell_type": "code",
   "execution_count": 8,
   "id": "cdce93cf",
   "metadata": {},
   "outputs": [
    {
     "name": "stdout",
     "output_type": "stream",
     "text": [
      "Input a number: 5\n",
      "101"
     ]
    }
   ],
   "source": [
    "#The program requires to the user to input a number\n",
    "num1 = int(input(\"Input a number: \"))\n",
    "#Execution of the function\n",
    "binary(num1)"
   ]
  },
  {
   "cell_type": "markdown",
   "id": "cee24186",
   "metadata": {},
   "source": [
    "# Question 6\n",
    "\n",
    "The implementation of a class called \"HeadingParser\" that through the evaluation of an HTML code, will takes the value of each tag and just looking for \"h\" tag will add an specific indentation."
   ]
  },
  {
   "cell_type": "code",
   "execution_count": 15,
   "id": "c996fbcc",
   "metadata": {},
   "outputs": [],
   "source": [
    "from html.parser import HTMLParser\n",
    "\n",
    "tag_val = \"\"      #Variable that will save the value of each tag evaluation\n",
    "class HeadingParser(HTMLParser):\n",
    "    #Function that gets the tag value to be saved on the prevous variable\n",
    "    def handle_starttag(self, tag, attrs):\n",
    "        global tag_val        \n",
    "        tag_val = tag\n",
    "    #Function that prints the data of each tag depending on its type\n",
    "    def handle_data(self, data):\n",
    "        if (tag_val == \"h1\"):\n",
    "            print(data, end='')\n",
    "        elif (tag_val == \"h2\"):\n",
    "            print(\"\\t\",data)\n",
    "        elif (tag_val == \"h3\"):\n",
    "            print(\"\\t\\t\",data)\n",
    "        elif (tag_val == \"h4\"):\n",
    "            print(\"\\t\\t\\t\",data)"
   ]
  },
  {
   "cell_type": "code",
   "execution_count": 14,
   "id": "608e4859",
   "metadata": {},
   "outputs": [
    {
     "name": "stdout",
     "output_type": "stream",
     "text": [
      "W3C Mission\n",
      "\t\t Principles\n",
      "\t \n",
      " \n",
      "\n",
      "\n",
      "\n",
      "\t \n",
      "\n"
     ]
    }
   ],
   "source": [
    "infile = open('w3c.html')      #This line takes and open the file to be read\n",
    "content = infile.read()        #The information is saved on this variable\n",
    "infile.close()\n",
    "hp = HeadingParser()\n",
    "hp.feed(content)               #In this line the information is sent to the class and functions"
   ]
  },
  {
   "cell_type": "markdown",
   "id": "f60b869b",
   "metadata": {},
   "source": [
    "# Question 7\n",
    "\n",
    "Recursive function that will makes as much clicks inside a web page as the user input on the entrance variable\n",
    "\n",
    "(To be honest, this function was very hard for me to make it work well and at the end I did not find a way to complete this excercise, I apologize for this wrong code)"
   ]
  },
  {
   "cell_type": "code",
   "execution_count": 16,
   "id": "94d39893",
   "metadata": {},
   "outputs": [],
   "source": [
    "from urllib.request import urlopen\n",
    "from html.parser import HTMLParser\n",
    "\n",
    "def webdir(url, depth, indent):\n",
    "    class Collector(HTMLParser):\n",
    "        'collects hyperlink URLs into a list'\n",
    "\n",
    "        def __init__(self, url):\n",
    "            'initializes parser, the url, and a list'\n",
    "            HTMLParser.__init__(self)\n",
    "            self.url = url\n",
    "            self.links = []\n",
    "\n",
    "        def getLinks(self):\n",
    "            'returns hyperlinks URLs in their absolute format'\n",
    "            return self.links"
   ]
  },
  {
   "cell_type": "code",
   "execution_count": 17,
   "id": "75e77a64",
   "metadata": {},
   "outputs": [
    {
     "ename": "NameError",
     "evalue": "name 'Collector' is not defined",
     "output_type": "error",
     "traceback": [
      "\u001b[1;31m---------------------------------------------------------------------------\u001b[0m",
      "\u001b[1;31mNameError\u001b[0m                                 Traceback (most recent call last)",
      "Cell \u001b[1;32mIn [17], line 4\u001b[0m\n\u001b[0;32m      2\u001b[0m resource \u001b[38;5;241m=\u001b[39m urlopen(url)\n\u001b[0;32m      3\u001b[0m content \u001b[38;5;241m=\u001b[39m resource\u001b[38;5;241m.\u001b[39mread()\u001b[38;5;241m.\u001b[39mdecode()\n\u001b[1;32m----> 4\u001b[0m collector \u001b[38;5;241m=\u001b[39m \u001b[43mCollector\u001b[49m(url)\n\u001b[0;32m      5\u001b[0m collector\u001b[38;5;241m.\u001b[39mfeed(content)\n\u001b[0;32m      6\u001b[0m collector\u001b[38;5;241m.\u001b[39mgetLinks()\n",
      "\u001b[1;31mNameError\u001b[0m: name 'Collector' is not defined"
     ]
    }
   ],
   "source": [
    "url = 'http://www.w3.org/Consortium/mission.html'\n",
    "resource = urlopen(url)\n",
    "content = resource.read().decode()\n",
    "collector = Collector(url)\n",
    "collector.feed(content)\n",
    "collector.getLinks()"
   ]
  },
  {
   "attachments": {},
   "cell_type": "markdown",
   "id": "3a07b473",
   "metadata": {},
   "source": [
    "# Question 8\n",
    "\n",
    "Sql queries making a search about the information of the following table"
   ]
  },
  {
   "attachments": {
    "Screenshot%202022-11-02%20220842.jpg": {
     "image/jpeg": "[encoded data removed]"
    }
   },
   "cell_type": "markdown",
   "id": "6c06d5bc",
   "metadata": {},
   "source": [
    "![Screenshot%202022-11-02%20220842.jpg](attachment:Screenshot%202022-11-02%20220842.jpg)"
   ]
  },
  {
   "cell_type": "markdown",
   "id": "c0b28045",
   "metadata": {},
   "source": [
    "1) All the temperature data\n",
    "\n",
    "SELECT Temperature FROM Question_8;\n",
    "\n",
    "2) All the cities but without repetition\n",
    "\n",
    "SELECT DISTINCT City FROM Question_8;\n",
    "\n",
    "3) All the records for India\n",
    "\n",
    "SELECT * FROM Question_8 WHERE Country = 'India';\n",
    "\n",
    "4) All the Fall records\n",
    "\n",
    "SELECT * FROM Question_8 WHERE Season = 'Fall';\n",
    "\n",
    "5) The city, country, season for which the average rainfall is between 200 and 400\n",
    "\n",
    "SELECT City, Country, Season, Rainfall\n",
    "FROM Question_8\n",
    "WHERE Rainfall BETWEEN 200 AND 400;\n",
    "\n",
    "6) The city and country for which the average Fall temperature is above 20\n",
    "\n",
    "SELECT City, Country, AVG(Temperature) Temp\n",
    "FROM Question_8\n",
    "GROUP BY City, Country\n",
    "HAVING AVG(Temperature) > 20\n",
    "ORDER BY AVG(Temperature) ASC;\n",
    "\n",
    "7) The total number of rainfall for Cairo\n",
    "\n",
    "SELECT City, SUM(Rainfall) AS Rainfall\n",
    "FROM Question_8\n",
    "WHERE City = 'Cairo'\n",
    "GROUP BY City;\n",
    "\n",
    "\n",
    "8) The total rainfall for each season\n",
    "\n",
    "SELECT Season, SUM(Rainfall) as Rain\n",
    "FROM Question_8\n",
    "GROUP BY Season;"
   ]
  },
  {
   "cell_type": "markdown",
   "id": "3e9c792b",
   "metadata": {},
   "source": [
    "# Question 9\n",
    "\n",
    "Working with lists and making different variations on a specific list of values\n",
    "\n",
    "Words = ['The', 'quick', 'brown', 'fox', 'jumps', 'over', 'the', 'lazy', 'dog']"
   ]
  },
  {
   "cell_type": "code",
   "execution_count": 19,
   "id": "a2c0dd1a",
   "metadata": {},
   "outputs": [],
   "source": [
    "#List declarations. Each list will contain values in a specific format\n",
    "list_upper = []\n",
    "list_lower = []\n",
    "len_letter = []\n",
    "upper_lower_len = []\n",
    "four_or_more = []\n",
    "\n",
    "Words = ['The', 'quick', 'brown', 'fox', 'jumps', 'over', 'the', 'lazy', 'dog']\n",
    "\n",
    "#Using just a for loop is possible to make and fulfill all the lists making the adecuated changes on the data\n",
    "for i in Words:    \n",
    "    list_upper.append(i.upper())   #Converting the words in upper case\n",
    "    list_lower.append(i.lower())   #Converting the words in lower case\n",
    "    len_letter.append(len(i))      #Getting and saving the number of letters for each word\n",
    "    upper_lower_len.append([i.upper(),i.lower(),len(i)])      #Using a list of lists or matrix where will be saved three different values\n",
    "    if(len(i) >= 4):           #Determining if the number of letters of each word is greater than 4 to be stored on a list\n",
    "        four_or_more.append(i)"
   ]
  },
  {
   "cell_type": "code",
   "execution_count": 21,
   "id": "66ad8a4d",
   "metadata": {},
   "outputs": [
    {
     "name": "stdout",
     "output_type": "stream",
     "text": [
      "['THE', 'QUICK', 'BROWN', 'FOX', 'JUMPS', 'OVER', 'THE', 'LAZY', 'DOG']\n",
      "['the', 'quick', 'brown', 'fox', 'jumps', 'over', 'the', 'lazy', 'dog']\n",
      "[3, 5, 5, 3, 5, 4, 3, 4, 3]\n",
      "[['THE', 'the', 3], ['QUICK', 'quick', 5], ['BROWN', 'brown', 5], ['FOX', 'fox', 3], ['JUMPS', 'jumps', 5], ['OVER', 'over', 4], ['THE', 'the', 3], ['LAZY', 'lazy', 4], ['DOG', 'dog', 3]]\n",
      "['quick', 'brown', 'jumps', 'over', 'lazy']\n"
     ]
    }
   ],
   "source": [
    "print(list_upper)\n",
    "print(list_lower)\n",
    "print(len_letter)\n",
    "print(upper_lower_len)\n",
    "print(four_or_more)"
   ]
  },
  {
   "cell_type": "code",
   "execution_count": null,
   "id": "66826d54",
   "metadata": {},
   "outputs": [],
   "source": []
  }
 ],
 "metadata": {
  "kernelspec": {
   "display_name": "Python 3 (ipykernel)",
   "language": "python",
   "name": "python3"
  },
  "language_info": {
   "codemirror_mode": {
    "name": "ipython",
    "version": 3
   },
   "file_extension": ".py",
   "mimetype": "text/x-python",
   "name": "python",
   "nbconvert_exporter": "python",
   "pygments_lexer": "ipython3",
   "version": "3.9.4"
  }
 },
 "nbformat": 4,
 "nbformat_minor": 5
}
